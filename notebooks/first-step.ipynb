{
 "cells": [
  {
   "cell_type": "markdown",
   "metadata": {},
   "source": [
    "**Let's create a notebook with some basic functionalities**"
   ]
  },
  {
   "cell_type": "code",
   "execution_count": 1,
   "metadata": {},
   "outputs": [
    {
     "name": "stdout",
     "output_type": "stream",
     "text": [
      "Hello\n"
     ]
    }
   ],
   "source": [
    "print(\"Hello\")"
   ]
  },
  {
   "cell_type": "markdown",
   "metadata": {},
   "source": [
    "This is another step, required to import libraries:"
   ]
  },
  {
   "cell_type": "code",
   "execution_count": 2,
   "metadata": {},
   "outputs": [],
   "source": [
    "from langchain_community.llms import Ollama"
   ]
  },
  {
   "cell_type": "markdown",
   "metadata": {},
   "source": [
    "Let's initialize the Ollama model with *llama2* model"
   ]
  },
  {
   "cell_type": "code",
   "execution_count": 10,
   "metadata": {},
   "outputs": [],
   "source": [
    "llm = Ollama(model='llama2', temperature=0.8)"
   ]
  },
  {
   "cell_type": "markdown",
   "metadata": {},
   "source": [
    "We are going to ask llama2 who's the best LLM"
   ]
  },
  {
   "cell_type": "code",
   "execution_count": 11,
   "metadata": {},
   "outputs": [
    {
     "data": {
      "text/plain": [
       "'There are many excellent LLM programs available around the world, and the \"best\" one for you will depend on your individual goals, interests, and circumstances. Here are some top-ranked LLM programs in various fields to consider:\\n\\n1. Harvard Law School - Harvard University: Known for its rigorous academic standards and influential alumni network, Harvard\\'s LLM program is highly competitive and attracts students from around the world.\\n2. Stanford Law School - Stanford University: Stanford\\'s LLM program offers a unique opportunity to learn from top legal scholars and practitioners, and its location in Silicon Valley provides access to cutting-edge legal issues in technology and innovation.\\n3. Yale Law School - Yale University: Yale\\'s LLM program is highly selective and offers a diverse range of courses and clinical opportunities, as well as a strong focus on interdisciplinary study and collaboration with other graduate programs at Yale.\\n4. New York University School of Law - New York University: NYU Law\\'s LLM program provides access to one of the world\\'s largest and most diverse legal communities, with opportunities to study a wide range of legal topics and gain practical experience through clinics and internships.\\n5. University of Cambridge - University of Cambridge: Cambridge\\'s LLM program is highly regarded for its academic rigor and opportunity to study law in a historical and cultural context. The program attracts students from around the world and offers a unique blend of theoretical and practical learning.\\n6. University of California, Berkeley - University of California, Berkeley: UC Berkeley\\'s LLM program is known for its interdisciplinary approach to legal studies, with courses and clinics that incorporate insights from other disciplines such as political science, sociology, and computer science.\\n7. University of Oxford - University of Oxford: Oxford\\'s LLM program offers a world-class education in law, with a focus on theoretical and practical learning in a supportive and stimulating academic environment.\\n8. London School of Economics and Political Science - London School of Economics and Political Science: LSE\\'s LLM program is highly regarded for its interdisciplinary approach to legal studies, with courses that incorporate insights from other disciplines such as economics, politics, and sociology.\\n9. University of Toronto - University of Toronto: UofT\\'s LLM program offers a diverse range of courses and clinical opportunities, as well as a strong focus on interdisciplinary study and collaboration with other graduate programs at the university.\\n10. National University of Singapore - National University of Singapore: NUS Law\\'s LLM program is highly regarded for its academic rigor and opportunity to learn from top legal scholars and practitioners in Southeast Asia. The program offers a diverse range of courses and clinics, as well as access to a vibrant legal community in Singapore.\\n\\nOf course, there are many other excellent LLM programs available around the world, and the \"best\" program for you will depend on your individual goals and circumstances. It\\'s important to research and compare different programs to find the one that best fits your needs and aspirations.'"
      ]
     },
     "execution_count": 11,
     "metadata": {},
     "output_type": "execute_result"
    }
   ],
   "source": [
    "llm.invoke(\"input=Who is the best LLM?\")"
   ]
  },
  {
   "cell_type": "code",
   "execution_count": null,
   "metadata": {},
   "outputs": [],
   "source": []
  }
 ],
 "metadata": {
  "kernelspec": {
   "display_name": "Python 3",
   "language": "python",
   "name": "python3"
  },
  "language_info": {
   "codemirror_mode": {
    "name": "ipython",
    "version": 3
   },
   "file_extension": ".py",
   "mimetype": "text/x-python",
   "name": "python",
   "nbconvert_exporter": "python",
   "pygments_lexer": "ipython3",
   "version": "3.9.6"
  }
 },
 "nbformat": 4,
 "nbformat_minor": 2
}
