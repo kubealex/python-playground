{
 "cells": [
  {
   "cell_type": "markdown",
   "metadata": {},
   "source": [
    "**Let's create a notebook with some basic functionalities**"
   ]
  },
  {
   "cell_type": "code",
   "execution_count": 1,
   "metadata": {},
   "outputs": [
    {
     "name": "stdout",
     "output_type": "stream",
     "text": [
      "Hello\n"
     ]
    }
   ],
   "source": [
    "print(\"Hello\")"
   ]
  },
  {
   "cell_type": "markdown",
   "metadata": {},
   "source": [
    "This is another step, required to import libraries:"
   ]
  },
  {
   "cell_type": "code",
   "execution_count": 2,
   "metadata": {},
   "outputs": [],
   "source": [
    "from langchain_community.llms import Ollama"
   ]
  },
  {
   "cell_type": "code",
   "execution_count": 8,
   "metadata": {},
   "outputs": [],
   "source": [
    "llm = Ollama(model='llama2')"
   ]
  },
  {
   "cell_type": "code",
   "execution_count": 7,
   "metadata": {},
   "outputs": [
    {
     "data": {
      "text/plain": [
       "'\\nIt is difficult to determine who the \"best\" LLM program is, as it depends on various factors such as the area of specialization, research interests, and career goals. Here are some of the top LLM programs in the world based on various rankings:\\n\\n1. Harvard Law School (USA) - Known for its academic excellence and selectivity, Harvard\\'s LLM program is highly competitive and attracts students from around the world.\\n2. Stanford Law School (USA) - Stanford\\'s LLM program is known for its interdisciplinary approach to legal studies, with courses offered in areas such as business, economics, and computer science.\\n3. University of Cambridge (UK) - The Cambridge LLM program is one of the oldest and most prestigious in the world, with a focus on advanced legal studies and research.\\n4. New York University School of Law (USA) - NYU\\'s LLM program offers a wide range of courses and clinics, as well as opportunities for practical experience through internships and pro bono work.\\n5. University of Oxford (UK) - Oxford\\'s LLM program is known for its rigorous academic standards and access to world-class faculty and resources.\\n6. University of California, Berkeley (USA) - Berkeley\\'s LLM program offers a unique blend of legal and interdisciplinary courses, with a focus on social justice and public policy.\\n7. London School of Economics and Political Science (UK) - LSE\\'s LLM program is known for its diverse student body and faculty, as well as its strong emphasis on practical skills and career development.\\n8. University of Toronto (Canada) - The University of Toronto\\'s LLM program offers a wide range of courses and clinics, as well as opportunities for practical experience through internships and pro bono work.\\n9. Columbia University School of Law (USA) - Columbia\\'s LLM program is known for its strong emphasis on legal theory and practice, with courses offered in areas such as corporate law, intellectual property, and international law.\\n10. University of Melbourne (Australia) - The University of Melbourne\\'s LLM program offers a unique blend of legal and interdisciplinary courses, with a focus on advanced legal studies and research.\\n\\nIt\\'s important to note that these rankings can vary depending on the source and methodology used, and there are many other excellent LLM programs available around the world. It\\'s also worth considering factors such as location, cost, and curriculum when choosing an LLM program.'"
      ]
     },
     "execution_count": 7,
     "metadata": {},
     "output_type": "execute_result"
    }
   ],
   "source": [
    "llm.invoke(\"input=Who is the best LLM?\")"
   ]
  },
  {
   "cell_type": "code",
   "execution_count": null,
   "metadata": {},
   "outputs": [],
   "source": []
  }
 ],
 "metadata": {
  "kernelspec": {
   "display_name": "Python 3",
   "language": "python",
   "name": "python3"
  },
  "language_info": {
   "codemirror_mode": {
    "name": "ipython",
    "version": 3
   },
   "file_extension": ".py",
   "mimetype": "text/x-python",
   "name": "python",
   "nbconvert_exporter": "python",
   "pygments_lexer": "ipython3",
   "version": "3.9.6"
  }
 },
 "nbformat": 4,
 "nbformat_minor": 2
}
